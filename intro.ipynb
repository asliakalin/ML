{
 "cells": [
  {
   "cell_type": "markdown",
   "metadata": {},
   "source": [
    "# Homework 1"
   ]
  },
  {
   "cell_type": "markdown",
   "metadata": {},
   "source": [
    "This homework is intended as a brief overview of the machine learning process and the various topics you will learn in this class. We hope that this exercise will allow you to put in context the information you learn with us this semester. Don't worry if you don't understand the techniques here (that's what you'll learn this semester!); we just want to show you how you can use sklearn to do simple machine learning. "
   ]
  },
  {
   "cell_type": "markdown",
   "metadata": {},
   "source": [
    "## Setup"
   ]
  },
  {
   "cell_type": "markdown",
   "metadata": {},
   "source": [
    "First let us import some libraries."
   ]
  },
  {
   "cell_type": "code",
   "execution_count": 1,
   "metadata": {},
   "outputs": [],
   "source": [
    "import numpy as np\n",
    "import matplotlib.pyplot as plt\n",
    "%matplotlib inline\n",
    "\n",
    "from sklearn.datasets import fetch_mldata\n",
    "from sklearn.model_selection import train_test_split\n",
    "from sklearn.preprocessing import OneHotEncoder\n",
    "from sklearn.metrics import accuracy_score\n",
    "from sklearn.linear_model import LinearRegression, Ridge, LogisticRegression\n",
    "from sklearn.ensemble import RandomForestClassifier, AdaBoostClassifier\n",
    "from sklearn.svm import LinearSVC, SVC\n",
    "from sklearn.decomposition import PCA\n",
    "from sklearn.neural_network import MLPClassifier"
   ]
  },
  {
   "cell_type": "markdown",
   "metadata": {},
   "source": [
    "For this homework assignment, we will be using the MNIST dataset. The MNIST data is a collection of black and white 28x28 images, each picturing a handwritten digit. These were collected from digits people write at the post office, and now this dataset is a standard benchmark to evaluate models against used in the machine learning community. This may take some time to download. If this errors out, try rerunning it."
   ]
  },
  {
   "cell_type": "code",
   "execution_count": 2,
   "metadata": {
    "collapsed": true
   },
   "outputs": [],
   "source": [
    "mnist = fetch_mldata('MNIST original')\n",
    "X = mnist.data.astype('float64')\n",
    "y = mnist.target.astype('int64')"
   ]
  },
  {
   "cell_type": "markdown",
   "metadata": {},
   "source": [
    "## Data Exploration"
   ]
  },
  {
   "cell_type": "markdown",
   "metadata": {},
   "source": [
    "Let us first explore this data a little bit."
   ]
  },
  {
   "cell_type": "code",
   "execution_count": 3,
   "metadata": {},
   "outputs": [
    {
     "name": "stdout",
     "output_type": "stream",
     "text": [
      "(70000, 784) (70000,)\n"
     ]
    }
   ],
   "source": [
    "print(X.shape, y.shape) "
   ]
  },
  {
   "cell_type": "markdown",
   "metadata": {},
   "source": [
    "The X matrix here contains all the digit pictures. The data is (n_samples x n_features), meaning this data contains 70,000 pictures, each with 784 features (the 28x28 image is flattened into a single row). The y vector contains the label for each digit, so we know which digit (or class - class means category) is in each picture."
   ]
  },
  {
   "cell_type": "markdown",
   "metadata": {},
   "source": [
    "Let's try and visualize this data a bit. Change around the index variable to explore more."
   ]
  },
  {
   "cell_type": "code",
   "execution_count": 10,
   "metadata": {},
   "outputs": [
    {
     "data": {
      "text/plain": [
       "<matplotlib.image.AxesImage at 0x1a33c7c5f8>"
      ]
     },
     "execution_count": 10,
     "metadata": {},
     "output_type": "execute_result"
    },
    {
     "data": {
      "image/png": "[encoded data removed]",
      "text/plain": [
       "<matplotlib.figure.Figure at 0x1a33b04978>"
      ]
     },
     "metadata": {},
     "output_type": "display_data"
    }
   ],
   "source": [
    "index = 1982 #15000, 28999, 67345\n",
    "image = X[index].reshape((28, 28))\n",
    "plt.title('Label is ' + str(y[index]))\n",
    "plt.imshow(image, cmap='gray')"
   ]
  },
  {
   "cell_type": "markdown",
   "metadata": {},
   "source": [
    "Notice that each pixel value ranges from 0-255. When we train our models, a good practice is to *standardize* the data so different features can be compared more equally. Here we will use a simple standardization, squeezing all values into the 0-1 interval range."
   ]
  },
  {
   "cell_type": "code",
   "execution_count": 5,
   "metadata": {
    "collapsed": true
   },
   "outputs": [],
   "source": [
    "X = X / 255"
   ]
  },
  {
   "cell_type": "markdown",
   "metadata": {},
   "source": [
    "When we train our model, we want it to have the lowest error. Error presents itself in 2 ways: bias (how close our model is to the ideal model), and variance (how much our model varies with different datasets). If we train our model on a chunk of data, and then test our model on that same data, we will only witness the first type of error - bias. However, if we test on new, unseen data, that will reflect both bias and variance. This is the reasoning behind cross validation."
   ]
  },
  {
   "cell_type": "markdown",
   "metadata": {},
   "source": [
    "So, we want to have 2 datasets, train and test, each used for the named purpose exclusively."
   ]
  },
  {
   "cell_type": "code",
   "execution_count": 11,
   "metadata": {
    "collapsed": true
   },
   "outputs": [],
   "source": [
    "X_train, X_test, y_train, y_test = train_test_split(X, y, test_size=0.25)"
   ]
  },
  {
   "cell_type": "markdown",
   "metadata": {},
   "source": [
    "## Applying Models"
   ]
  },
  {
   "cell_type": "markdown",
   "metadata": {},
   "source": [
    "Now we will walk you through applying various models to try and achieve the lowest error rate on this data."
   ]
  },
  {
   "cell_type": "markdown",
   "metadata": {},
   "source": [
    "Each of our labels is a number from 0-9. If we simply did regression on this data, the labels would imply some sort of ordering of the classes (ie the digit 8 is more of the digit 7 than the digit 3 is, etc. We can fix this issue by one-hot encoding our labels. So, instead of each label being a simple digit, each label is a vector of 10 entries. 9 of those entries are zero, and only 1 entry is equal to one, corresponding to the index of the digit. Let's take a look."
   ]
  },
  {
   "cell_type": "code",
   "execution_count": 12,
   "metadata": {},
   "outputs": [
    {
     "data": {
      "text/plain": [
       "(70000, 10)"
      ]
     },
     "execution_count": 12,
     "metadata": {},
     "output_type": "execute_result"
    }
   ],
   "source": [
    "enc = OneHotEncoder(sparse=False)\n",
    "y_hot = enc.fit_transform(y.reshape(-1, 1))\n",
    "y_train_hot = enc.transform(y_train.reshape(-1, 1))\n",
    "y_hot.shape"
   ]
  },
  {
   "cell_type": "markdown",
   "metadata": {},
   "source": [
    "Remember how the first sample is the digit zero? Let's now look at the new label at that index."
   ]
  },
  {
   "cell_type": "code",
   "execution_count": 13,
   "metadata": {},
   "outputs": [
    {
     "data": {
      "text/plain": [
       "array([ 1.,  0.,  0.,  0.,  0.,  0.,  0.,  0.,  0.,  0.])"
      ]
     },
     "execution_count": 13,
     "metadata": {},
     "output_type": "execute_result"
    }
   ],
   "source": [
    "y_hot[0]"
   ]
  },
  {
   "cell_type": "markdown",
   "metadata": {},
   "source": [
    "### Linear Regression"
   ]
  },
  {
   "cell_type": "markdown",
   "metadata": {},
   "source": [
    "There are 3 steps to build your model: create the model, train the model, then use your model to make predictions). In the sklearn API, this is made very clear. First you instantiate the model (constructor), then you call train it with the `fit` method, then you can make predictions on new data with the `test` method."
   ]
  },
  {
   "cell_type": "markdown",
   "metadata": {},
   "source": [
    "First, let's do a basic linear regression."
   ]
  },
  {
   "cell_type": "code",
   "execution_count": 14,
   "metadata": {},
   "outputs": [
    {
     "data": {
      "text/plain": [
       "LinearRegression(copy_X=True, fit_intercept=True, n_jobs=1, normalize=False)"
      ]
     },
     "execution_count": 14,
     "metadata": {},
     "output_type": "execute_result"
    }
   ],
   "source": [
    "linear = LinearRegression()\n",
    "linear.fit(X_train, y_train_hot)"
   ]
  },
  {
   "cell_type": "code",
   "execution_count": 15,
   "metadata": {},
   "outputs": [
    {
     "name": "stdout",
     "output_type": "stream",
     "text": [
      "train acc:  0.859733333333\n",
      "test acc:  0.851942857143\n"
     ]
    }
   ],
   "source": [
    "# use trained model to predict both train and test sets\n",
    "y_train_pred = linear.predict(X_train)\n",
    "y_test_pred = linear.predict(X_test)\n",
    "\n",
    "# print accuracies\n",
    "print('train acc: ', accuracy_score(y_train_pred.argmax(axis=1), y_train))\n",
    "print('test acc: ', accuracy_score(y_test_pred.argmax(axis=1), y_test))"
   ]
  },
  {
   "cell_type": "markdown",
   "metadata": {},
   "source": [
    "Note on interpretability: you can view the weights of your model with `linear.coef_`"
   ]
  },
  {
   "cell_type": "markdown",
   "metadata": {},
   "source": [
    "### Ridge Regression"
   ]
  },
  {
   "cell_type": "markdown",
   "metadata": {},
   "source": [
    "Let us try and regularize by adding a penalty term to see if we can get anything better. We can penalize via the L2 norm, aka Ridge Regression."
   ]
  },
  {
   "cell_type": "code",
   "execution_count": 20,
   "metadata": {},
   "outputs": [
    {
     "name": "stdout",
     "output_type": "stream",
     "text": [
      "train acc:  0.859714285714\n",
      "test acc:  0.852228571429\n"
     ]
    }
   ],
   "source": [
    "ridge = Ridge(alpha=0.3)\n",
    "ridge.fit(X_train, y_train_hot)\n",
    "print('train acc: ', accuracy_score(ridge.predict(X_train).argmax(axis=1), y_train))\n",
    "print('test acc: ', accuracy_score(ridge.predict(X_test).argmax(axis=1), y_test))"
   ]
  },
  {
   "cell_type": "markdown",
   "metadata": {},
   "source": [
    "The alpha controls how much to penalize the weights. Play around with it to see if you can improve the test accuracy."
   ]
  },
  {
   "cell_type": "markdown",
   "metadata": {},
   "source": [
    "Now you have seen how to use some basic models to fit and evaluate your data. You will now walk through working with more models. Fill in code where needed."
   ]
  },
  {
   "cell_type": "markdown",
   "metadata": {},
   "source": [
    "### Logistic Regression"
   ]
  },
  {
   "cell_type": "markdown",
   "metadata": {},
   "source": [
    "We will now do logistic regression. From now on, the models will automatically one-hot the labels (so we don't need to worry about it)."
   ]
  },
  {
   "cell_type": "code",
   "execution_count": 21,
   "metadata": {},
   "outputs": [
    {
     "name": "stdout",
     "output_type": "stream",
     "text": [
      "train acc:  0.930342857143\n",
      "test acc:  0.921028571429\n"
     ]
    }
   ],
   "source": [
    "logreg = LogisticRegression(C=0.01, multi_class='multinomial', solver='saga', tol=0.1)\n",
    "logreg.fit(X_train, y_train)\n",
    "print('train acc: ', accuracy_score(logreg.predict(X_train), y_train))\n",
    "print('test acc: ', accuracy_score(logreg.predict(X_test), y_test))"
   ]
  },
  {
   "cell_type": "markdown",
   "metadata": {},
   "source": [
    "Our accuracy has jumped ~5%! Why is this? Logistic Regression is a more complex model - instead of computing raw scores as in linear regression, it does one extra step and squashes values between 0 and 1. This means our model now optimizes over *probabilities* instead of raw scores. This makes sense since our vectors are 1-hot encoded."
   ]
  },
  {
   "cell_type": "markdown",
   "metadata": {},
   "source": [
    "The C hyperparameter controls inverse regularization strength (inverse for this model only). Reguralization is important to make sure our model doesn't overfit (perform much better on train data than test data). Play around with the C parameter to try and get better results! You should be able to hit 92%."
   ]
  },
  {
   "cell_type": "markdown",
   "metadata": {},
   "source": [
    "### Random Forest"
   ]
  },
  {
   "cell_type": "markdown",
   "metadata": {},
   "source": [
    "Decision Trees are a completely different type of classifier. They essentially break up the possible space by repeatedly \"splitting\" on features to keep narrowing down the possibilities. Decision Trees are normally individually very week, so we typically average them together in bunches called Random Forest."
   ]
  },
  {
   "cell_type": "markdown",
   "metadata": {},
   "source": [
    "Now you have seen many examples for how to construct, fit, and evaluate a model. Now do the same for Random Forest using the [documentation here](http://scikit-learn.org/stable/modules/generated/sklearn.ensemble.RandomForestClassifier.html). You should be able to create one easily without needing to specify any constructor parameters."
   ]
  },
  {
   "cell_type": "code",
   "execution_count": 44,
   "metadata": {},
   "outputs": [
    {
     "name": "stdout",
     "output_type": "stream",
     "text": [
      "train acc:  1.0\n",
      "test acc:  0.967428571429\n"
     ]
    }
   ],
   "source": [
    "## YOUR CODE HERE - call the constructor\n",
    "randomf = RandomForestClassifier(n_estimators = 100)\n",
    "\n",
    "## YOUR CODE HERE - fit the rf model (just like logistic regression)\n",
    "randomf.fit(X_train, y_train)\n",
    "\n",
    "## YOUR CODE HERE - print training accuracy\n",
    "print('train acc: ', accuracy_score(randomf.predict(X_train), y_train))\n",
    "\n",
    "## YOUR CODE HERE - print test accuracy\n",
    "print('test acc: ', accuracy_score(randomf.predict(X_test), y_test))\n"
   ]
  },
  {
   "cell_type": "markdown",
   "metadata": {},
   "source": [
    "WOWZA! That train accuracy is amazing, let's see if we can boost up the test accuracy a bit (since that's what really counts). Try and play around with the hyperparameters to see if you can edge out more accuracy (look at the documentation for parameters in the constructor). Focus on `n_estimators`, `min_samples_split`, `max_features`. You should be able to hit ~97%."
   ]
  },
  {
   "cell_type": "markdown",
   "metadata": {},
   "source": [
    "### SVC"
   ]
  },
  {
   "cell_type": "markdown",
   "metadata": {},
   "source": [
    "A support vector classifier is another completely different type of classifier. It tries to find the best separating hyperplane through your data."
   ]
  },
  {
   "cell_type": "markdown",
   "metadata": {},
   "source": [
    "The SVC will toast our laptops unless we reduce the data dimensionality. Let's keep 80% of the variation, and get rid of the rest. (This will cause a slight drop in performance, but not by much)."
   ]
  },
  {
   "cell_type": "code",
   "execution_count": 29,
   "metadata": {
    "collapsed": true
   },
   "outputs": [],
   "source": [
    "pca = PCA(n_components=0.8, whiten=True)\n",
    "X_train_pca = pca.fit_transform(X_train)\n",
    "X_test_pca = pca.transform(X_test)"
   ]
  },
  {
   "cell_type": "markdown",
   "metadata": {},
   "source": [
    "Great! Now let's take a look at what that actually did."
   ]
  },
  {
   "cell_type": "code",
   "execution_count": 30,
   "metadata": {},
   "outputs": [
    {
     "data": {
      "text/plain": [
       "(52500, 43)"
      ]
     },
     "execution_count": 30,
     "metadata": {},
     "output_type": "execute_result"
    }
   ],
   "source": [
    "X_train_pca.shape"
   ]
  },
  {
   "cell_type": "markdown",
   "metadata": {},
   "source": [
    "Remember, before we had 784 (28x28) features! However, PCA found just 43 basis features that explain 80% of the data. So, we went to just 5% of the original input space, but we still retained 80% of the information! Nice."
   ]
  },
  {
   "cell_type": "markdown",
   "metadata": {},
   "source": [
    "This [blog post](http://colah.github.io/posts/2014-10-Visualizing-MNIST/) explains dimensionality reduction with MNIST far better than I can. It's a short read (<10 mins), and it contains some pretty cool visualizations. Read it and jot down things you learned from the post or further questions."
   ]
  },
  {
   "cell_type": "markdown",
   "metadata": {},
   "source": [
    "- \"If we think of it this way, a natural question occurs. What does the cube look like if we look at a particular two-dimensional face? Like staring into a snow-globe, we see the data points projected into two dimensions, with one dimension corresponding to the intensity of a particular pixel, and the other corresponding to the intensity of a second pixel. Examining this allows us to explore MNIST in a very raw way.\" Oh my god this explanation helped clear things out so much. It is very hard to change the conception of dimansionality so forcing myself to interpret them as cubes really helps.\n",
    "\n",
    "- I didn't quite understand the angles of looking at data for a 728 dimensional cube and how they are represented with different colors :(\n",
    "\n",
    "\n",
    "- Also the text mentions \"One really nice property would be if the distances between points in our visualization were the same as the distances between points in the original space. If that was true, we’d be capturing the global geometry of the data.\" but I don't understand how just saving the values of each dimention between 0-1 can be represented by distance, what does the distance between points in the original space refer to in this case?"
   ]
  },
  {
   "cell_type": "markdown",
   "metadata": {},
   "source": [
    "Now let's train our first SVC. The LinearSVC can only find a linear decision boundary (the hyperplane)."
   ]
  },
  {
   "cell_type": "code",
   "execution_count": 31,
   "metadata": {},
   "outputs": [
    {
     "name": "stdout",
     "output_type": "stream",
     "text": [
      "train acc:  0.893371428571\n",
      "test acc:  0.889428571429\n"
     ]
    }
   ],
   "source": [
    "lsvc = LinearSVC(dual=False, tol=0.01)\n",
    "lsvc.fit(X_train_pca, y_train)\n",
    "print('train acc: ', accuracy_score(lsvc.predict(X_train_pca), y_train))\n",
    "print('test acc: ', accuracy_score(lsvc.predict(X_test_pca), y_test))"
   ]
  },
  {
   "cell_type": "markdown",
   "metadata": {},
   "source": [
    "SVMs are really interesting because they have something called the *dual formulation*, in which the computation is expressed as training point inner products. This means that data can be lifted into higher dimensions easily with this \"kernel trick\". Data that is not linearly separable in a lower dimension can be linearly separable in a higher dimension - which is why we conduct the transform. Let us experiment."
   ]
  },
  {
   "cell_type": "markdown",
   "metadata": {},
   "source": [
    "A transformation that lifts the data into a higher-dimensional space is called a kernel. A polynomial kernel expands the feature space by computing all the polynomial cross terms to a specific degree."
   ]
  },
  {
   "cell_type": "code",
   "execution_count": 34,
   "metadata": {},
   "outputs": [
    {
     "name": "stdout",
     "output_type": "stream",
     "text": [
      "train acc: 0.995923809524\n",
      "test acc: 0.9812\n"
     ]
    }
   ],
   "source": [
    "psvc = SVC(kernel='poly', degree=3, tol=0.01, cache_size=4000)\n",
    "## YOUR CODE HERE\n",
    "psvc.fit(X_train_pca,y_train)\n",
    "## YOUR CODE HERE\n",
    "print(\"train acc:\", accuracy_score(psvc.predict(X_train_pca), y_train))\n",
    "## YOUR CODE HERE - print test accuracy\n",
    "print(\"test acc:\", accuracy_score(psvc.predict(X_test_pca), y_test))"
   ]
  },
  {
   "cell_type": "markdown",
   "metadata": {},
   "source": [
    "Play around with the degree of the polynomial kernel to see what accuracy you can get."
   ]
  },
  {
   "cell_type": "markdown",
   "metadata": {},
   "source": [
    "The RBF kernel uses the gaussian function to create an infinite dimensional space - a gaussian peak at each datapoint. Now fiddle with the `C` and `gamma` parameters of the gaussian kernel below to see what you can get. [Here's documentation](http://scikit-learn.org/stable/modules/generated/sklearn.svm.SVC.html)"
   ]
  },
  {
   "cell_type": "code",
   "execution_count": 35,
   "metadata": {},
   "outputs": [
    {
     "name": "stdout",
     "output_type": "stream",
     "text": [
      "train acc: 0.992723809524\n",
      "test acc: 0.9828\n"
     ]
    }
   ],
   "source": [
    "rsvc = SVC(kernel='rbf', tol=0.01, cache_size=4000)\n",
    "## YOUR CODE HERE - fit the rsvc model\n",
    "rsvc.fit(X_train_pca, y_train) \n",
    "## YOUR CODE HERE - print training accuracy\n",
    "print(\"train acc:\", accuracy_score(rsvc.predict(X_train_pca), y_train))\n",
    "## YOUR CODE HERE - print test accuracy\n",
    "print(\"test acc:\", accuracy_score(rsvc.predict(X_test_pca), y_test))"
   ]
  },
  {
   "cell_type": "markdown",
   "metadata": {},
   "source": [
    "Isn't that just amazing accuracy?"
   ]
  },
  {
   "cell_type": "markdown",
   "metadata": {},
   "source": [
    "## Basic Neural Network"
   ]
  },
  {
   "cell_type": "markdown",
   "metadata": {},
   "source": [
    "You should never do neural networks in sklearn. Use Keras (which we will teach you later in this class), Tensorflow, PyTorch, etc. However, in an effort to keep this homework somewhat cohesive, let us proceed."
   ]
  },
  {
   "cell_type": "markdown",
   "metadata": {},
   "source": [
    "Basic neural networks proceed in layers. Each layer has a certain number of nodes, representing how expressive that layer can be. Below is a sample network, with an input layer, one hidden (middle) layer of 50 neurons, and finally the output layer."
   ]
  },
  {
   "cell_type": "code",
   "execution_count": 36,
   "metadata": {},
   "outputs": [
    {
     "name": "stdout",
     "output_type": "stream",
     "text": [
      "Iteration 1, loss = 1.22075036\n",
      "Iteration 2, loss = 0.40749766\n",
      "Iteration 3, loss = 0.29456211\n",
      "Iteration 4, loss = 0.24710816\n",
      "Iteration 5, loss = 0.21707447\n",
      "Iteration 6, loss = 0.19488899\n",
      "Iteration 7, loss = 0.17719614\n",
      "Iteration 8, loss = 0.16327388\n",
      "Iteration 9, loss = 0.15188321\n",
      "Iteration 10, loss = 0.14223750\n",
      "Iteration 11, loss = 0.13415725\n",
      "Iteration 12, loss = 0.12720532\n",
      "Iteration 13, loss = 0.12121013\n",
      "Iteration 14, loss = 0.11601231\n",
      "Iteration 15, loss = 0.11115496\n",
      "Iteration 16, loss = 0.10703925\n",
      "Iteration 17, loss = 0.10329133\n",
      "Iteration 18, loss = 0.09977620\n",
      "Iteration 19, loss = 0.09680134\n",
      "Iteration 20, loss = 0.09384146\n",
      "Iteration 21, loss = 0.09117298\n",
      "Iteration 22, loss = 0.08878429\n",
      "Iteration 23, loss = 0.08677126\n",
      "Iteration 24, loss = 0.08439554\n",
      "Iteration 25, loss = 0.08256050\n",
      "Iteration 26, loss = 0.08048840\n",
      "Iteration 27, loss = 0.07905868\n",
      "Iteration 28, loss = 0.07728537\n",
      "Iteration 29, loss = 0.07585100\n",
      "Iteration 30, loss = 0.07463912\n",
      "Iteration 31, loss = 0.07329553\n",
      "Iteration 32, loss = 0.07199881\n",
      "Iteration 33, loss = 0.07070027\n",
      "Iteration 34, loss = 0.06965787\n",
      "Iteration 35, loss = 0.06880371\n",
      "Iteration 36, loss = 0.06771472\n",
      "Iteration 37, loss = 0.06679524\n",
      "Iteration 38, loss = 0.06593259\n",
      "Iteration 39, loss = 0.06499156\n",
      "Iteration 40, loss = 0.06410055\n",
      "Iteration 41, loss = 0.06329055\n",
      "Iteration 42, loss = 0.06262460\n",
      "Iteration 43, loss = 0.06193495\n",
      "Iteration 44, loss = 0.06116657\n",
      "Iteration 45, loss = 0.06034915\n",
      "Iteration 46, loss = 0.05978845\n",
      "Iteration 47, loss = 0.05916485\n",
      "Iteration 48, loss = 0.05860198\n",
      "Iteration 49, loss = 0.05780893\n",
      "Iteration 50, loss = 0.05742715\n",
      "Iteration 51, loss = 0.05672479\n",
      "Iteration 52, loss = 0.05610199\n",
      "Iteration 53, loss = 0.05566099\n",
      "Iteration 54, loss = 0.05511231\n",
      "Iteration 55, loss = 0.05458228\n",
      "Iteration 56, loss = 0.05430163\n",
      "Iteration 57, loss = 0.05360214\n",
      "Iteration 58, loss = 0.05334116\n",
      "Iteration 59, loss = 0.05310418\n",
      "Iteration 60, loss = 0.05250865\n",
      "Iteration 61, loss = 0.05202939\n",
      "Iteration 62, loss = 0.05182099\n",
      "Iteration 63, loss = 0.05108980\n",
      "Iteration 64, loss = 0.05090286\n",
      "Iteration 65, loss = 0.05064764\n",
      "Iteration 66, loss = 0.04993203\n",
      "Iteration 67, loss = 0.04984363\n",
      "Iteration 68, loss = 0.04938870\n",
      "Iteration 69, loss = 0.04898848\n",
      "Iteration 70, loss = 0.04867903\n",
      "Iteration 71, loss = 0.04837946\n",
      "Iteration 72, loss = 0.04806624\n",
      "Iteration 73, loss = 0.04756382\n",
      "Iteration 74, loss = 0.04730427\n",
      "Iteration 75, loss = 0.04669445\n",
      "Iteration 76, loss = 0.04654171\n",
      "Iteration 77, loss = 0.04624724\n",
      "Iteration 78, loss = 0.04581928\n",
      "Iteration 79, loss = 0.04553903\n",
      "Iteration 80, loss = 0.04541708\n",
      "Iteration 81, loss = 0.04510546\n",
      "Iteration 82, loss = 0.04479976\n",
      "Iteration 83, loss = 0.04455222\n",
      "Iteration 84, loss = 0.04405428\n",
      "Iteration 85, loss = 0.04408445\n",
      "Iteration 86, loss = 0.04365698\n",
      "Iteration 87, loss = 0.04335448\n",
      "Iteration 88, loss = 0.04304946\n",
      "Iteration 89, loss = 0.04299393\n",
      "Iteration 90, loss = 0.04258344\n",
      "Iteration 91, loss = 0.04236650\n",
      "Iteration 92, loss = 0.04247461\n",
      "Iteration 93, loss = 0.04188421\n",
      "Iteration 94, loss = 0.04166402\n",
      "Iteration 95, loss = 0.04147675\n",
      "Iteration 96, loss = 0.04133815\n",
      "Iteration 97, loss = 0.04113756\n",
      "Iteration 98, loss = 0.04089615\n",
      "Iteration 99, loss = 0.04064110\n",
      "Iteration 100, loss = 0.04040357\n",
      "Iteration 101, loss = 0.04053686\n",
      "Iteration 102, loss = 0.04029737\n",
      "Iteration 103, loss = 0.03977476\n",
      "Iteration 104, loss = 0.03983437\n",
      "Iteration 105, loss = 0.03964001\n",
      "Iteration 106, loss = 0.03931685\n",
      "Iteration 107, loss = 0.03925969\n",
      "Iteration 108, loss = 0.03913655\n",
      "Iteration 109, loss = 0.03883027\n",
      "Iteration 110, loss = 0.03858325\n",
      "Iteration 111, loss = 0.03862898\n",
      "Iteration 112, loss = 0.03841253\n",
      "Iteration 113, loss = 0.03805255\n",
      "Iteration 114, loss = 0.03803771\n",
      "Iteration 115, loss = 0.03775950\n",
      "Iteration 116, loss = 0.03782085\n",
      "Iteration 117, loss = 0.03757545\n",
      "Iteration 118, loss = 0.03760563\n",
      "Iteration 119, loss = 0.03727347\n",
      "Iteration 120, loss = 0.03704928\n",
      "Iteration 121, loss = 0.03694452\n",
      "Iteration 122, loss = 0.03694860\n",
      "Iteration 123, loss = 0.03673188\n",
      "Iteration 124, loss = 0.03642750\n",
      "Iteration 125, loss = 0.03633713\n",
      "Iteration 126, loss = 0.03627383\n",
      "Iteration 127, loss = 0.03603941\n",
      "Iteration 128, loss = 0.03607281\n",
      "Iteration 129, loss = 0.03573922\n",
      "Iteration 130, loss = 0.03566645\n",
      "Iteration 131, loss = 0.03545071\n",
      "Iteration 132, loss = 0.03538776\n",
      "Iteration 133, loss = 0.03532299\n",
      "Iteration 134, loss = 0.03519512\n",
      "Iteration 135, loss = 0.03506856\n",
      "Iteration 136, loss = 0.03488609\n",
      "Iteration 137, loss = 0.03468320\n",
      "Iteration 138, loss = 0.03466554\n",
      "Iteration 139, loss = 0.03448580\n",
      "Iteration 140, loss = 0.03444049\n",
      "Iteration 141, loss = 0.03430835\n",
      "Iteration 142, loss = 0.03424738\n",
      "Iteration 143, loss = 0.03409935\n",
      "Iteration 144, loss = 0.03406519\n",
      "Iteration 145, loss = 0.03392504\n",
      "Iteration 146, loss = 0.03383423\n",
      "Iteration 147, loss = 0.03367841\n",
      "Iteration 148, loss = 0.03374821\n",
      "Iteration 149, loss = 0.03360215\n",
      "Iteration 150, loss = 0.03345940\n",
      "Iteration 151, loss = 0.03334458\n",
      "Iteration 152, loss = 0.03311264\n",
      "Iteration 153, loss = 0.03296266\n",
      "Iteration 154, loss = 0.03283006\n",
      "Iteration 155, loss = 0.03289464\n",
      "Iteration 156, loss = 0.03273607\n",
      "Iteration 157, loss = 0.03266354\n",
      "Training loss did not improve more than tol=0.000100 for two consecutive epochs. Stopping.\n",
      "train acc: 0.992380952381\n",
      "test acc: 0.968514285714\n"
     ]
    }
   ],
   "source": [
    "## with layer size of 50\n",
    "\n",
    "nn = MLPClassifier(hidden_layer_sizes=(50,), solver='adam', verbose=1)\n",
    "## YOUR CODE HERE - fit the nn\n",
    "nn.fit(X_train_pca, y_train)\n",
    "## YOUR CODE HERE - print training accuracy\n",
    "print(\"train acc:\", accuracy_score(nn.predict(X_train_pca), y_train))\n",
    "## YOUR CODE HERE - print test accuracy\n",
    "print(\"test acc:\", accuracy_score(nn.predict(X_test_pca), y_test))"
   ]
  },
  {
   "cell_type": "code",
   "execution_count": 39,
   "metadata": {},
   "outputs": [
    {
     "name": "stdout",
     "output_type": "stream",
     "text": [
      "Iteration 1, loss = 0.40590498\n",
      "Iteration 2, loss = 0.13411649\n",
      "Iteration 3, loss = 0.08958652\n",
      "Iteration 4, loss = 0.06709231\n",
      "Iteration 5, loss = 0.05339578\n",
      "Iteration 6, loss = 0.04222889\n",
      "Iteration 7, loss = 0.03476918\n",
      "Iteration 8, loss = 0.02867344\n",
      "Iteration 9, loss = 0.02333759\n",
      "Iteration 10, loss = 0.01971070\n",
      "Iteration 11, loss = 0.01619709\n",
      "Iteration 12, loss = 0.01298197\n",
      "Iteration 13, loss = 0.01159994\n",
      "Iteration 14, loss = 0.00955988\n",
      "Iteration 15, loss = 0.00811083\n",
      "Iteration 16, loss = 0.00667995\n",
      "Iteration 17, loss = 0.00539893\n",
      "Iteration 18, loss = 0.00512317\n",
      "Iteration 19, loss = 0.00438594\n",
      "Iteration 20, loss = 0.00351598\n",
      "Iteration 21, loss = 0.00286274\n",
      "Iteration 22, loss = 0.00513297\n",
      "Iteration 23, loss = 0.00490928\n",
      "Iteration 24, loss = 0.00411290\n",
      "Training loss did not improve more than tol=0.000100 for two consecutive epochs. Stopping.\n",
      "train acc: 0.999657142857\n",
      "test acc: 0.982114285714\n"
     ]
    }
   ],
   "source": [
    "# layer size 100\n",
    "\n",
    "nn = MLPClassifier(hidden_layer_sizes=(1000,), solver='adam', verbose=2)\n",
    "## YOUR CODE HERE - fit the nn\n",
    "nn.fit(X_train_pca, y_train)\n",
    "## YOUR CODE HERE - print training accuracy\n",
    "print(\"train acc:\", accuracy_score(nn.predict(X_train_pca), y_train))\n",
    "## YOUR CODE HERE - print test accuracy\n",
    "print(\"test acc:\", accuracy_score(nn.predict(X_test_pca), y_test))"
   ]
  },
  {
   "cell_type": "markdown",
   "metadata": {},
   "source": [
    "Fiddle around with the hiddle layers. Change the number of neurons, add more layers, experiment. You should be able to hit 98% accuracy."
   ]
  },
  {
   "cell_type": "markdown",
   "metadata": {},
   "source": [
    "Neural networks are optimized with a technique called gradient descent (a neural net is just one big function - so we can take the gradient with respect to all its parameters, then just go opposite the gradient to try and find the minimum). This is why it requires many iterations to converge."
   ]
  },
  {
   "cell_type": "markdown",
   "metadata": {},
   "source": [
    "## Turning In"
   ]
  },
  {
   "cell_type": "markdown",
   "metadata": {},
   "source": [
    "Convert this notebook to a PDF (file -> download as -> pdf via latex) and submit to Gradescope."
   ]
  },
  {
   "cell_type": "code",
   "execution_count": null,
   "metadata": {
    "collapsed": true
   },
   "outputs": [],
   "source": []
  }
 ],
 "metadata": {
  "kernelspec": {
   "display_name": "Python 3",
   "language": "python",
   "name": "python3"
  },
  "language_info": {
   "codemirror_mode": {
    "name": "ipython",
    "version": 3
   },
   "file_extension": ".py",
   "mimetype": "text/x-python",
   "name": "python",
   "nbconvert_exporter": "python",
   "pygments_lexer": "ipython3",
   "version": "3.6.3"
  },
  "toc": {
   "base_numbering": 1,
   "nav_menu": {},
   "number_sections": false,
   "sideBar": false,
   "skip_h1_title": false,
   "title_cell": "Table of Contents",
   "title_sidebar": "Contents",
   "toc_cell": false,
   "toc_position": {},
   "toc_section_display": false,
   "toc_window_display": false
  }
 },
 "nbformat": 4,
 "nbformat_minor": 2
}
